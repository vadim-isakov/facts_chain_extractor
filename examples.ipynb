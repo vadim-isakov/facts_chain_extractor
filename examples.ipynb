{
 "cells": [
  {
   "cell_type": "markdown",
   "metadata": {},
   "source": [
    "# Connect and analyze text"
   ]
  },
  {
   "cell_type": "code",
   "execution_count": 3,
   "metadata": {
    "ExecuteTime": {
     "end_time": "2018-10-22T14:15:23.105422Z",
     "start_time": "2018-10-22T14:15:21.907490Z"
    }
   },
   "outputs": [],
   "source": [
    "from isanlp_srl_framebank.pipeline_default import PipelineDefault  \n",
    "\n",
    "HOST = 'HOST'\n",
    "\n",
    "ppl = PipelineDefault(address_morph=(HOST, 3333),\n",
    "                      address_syntax=(HOST, 3334),\n",
    "                      address_srl=(HOST, 3335))\n",
    "\n",
    "text = 'Первый бой в рамках соглашения с DAZN Альварес проведет 15 декабря. В поединке за титул WBA во втором среднем весе он встретится с британцем Рокки Филдингом.'\n",
    "res = ppl(text)"
   ]
  },
  {
   "cell_type": "markdown",
   "metadata": {},
   "source": [
    "# Morphology"
   ]
  },
  {
   "cell_type": "code",
   "execution_count": 22,
   "metadata": {
    "ExecuteTime": {
     "end_time": "2018-10-22T14:26:12.392538Z",
     "start_time": "2018-10-22T14:26:12.368967Z"
    }
   },
   "outputs": [
    {
     "name": "stdout",
     "output_type": "stream",
     "text": [
      "{'fPOS': 'ADJ', 'Case': 'Acc', 'Number': 'Sing', 'Gender': 'Masc', 'Animacy': 'Inan'}\n",
      "первый\n",
      "Первый\n",
      "0 6\n",
      "\n",
      "{'fPOS': 'NOUN', 'Gender': 'Masc', 'Animacy': 'Inan', 'Case': 'Acc', 'Number': 'Sing'}\n",
      "бой\n",
      "бой\n",
      "7 10\n",
      "\n",
      "{'fPOS': 'ADP'}\n",
      "в\n",
      "в\n",
      "11 12\n",
      "\n",
      "{'fPOS': 'NOUN', 'Gender': 'Fem', 'Animacy': 'Inan', 'Case': 'Abl', 'Number': 'Plur'}\n",
      "рамка\n",
      "рамках\n",
      "13 19\n",
      "\n",
      "{'fPOS': 'NOUN', 'Gender': 'Neut', 'Animacy': 'Inan', 'Case': 'Acc', 'Number': 'Plur'}\n",
      "соглашение\n",
      "соглашения\n",
      "20 30\n",
      "\n",
      "{'fPOS': 'ADP'}\n",
      "с\n",
      "с\n",
      "31 32\n",
      "\n",
      "{}\n",
      "DAZN\n",
      "DAZN\n",
      "33 37\n",
      "\n",
      "{'fPOS': 'NOUN', 'Gender': 'Masc', 'Animacy': 'Anim', 'Case': 'Nom', 'Number': 'Sing'}\n",
      "альварес\n",
      "Альварес\n",
      "38 46\n",
      "\n",
      "{'fPOS': 'VERB', 'Tense': 'Imp', 'Number': 'Sing', 'VerbForm': 'Fin', 'Person': '3', 'Aspect': 'Perf'}\n",
      "проводить\n",
      "проведет\n",
      "47 55\n",
      "\n",
      "{}\n",
      "15\n",
      "15\n",
      "56 58\n",
      "\n",
      "{'fPOS': 'NOUN', 'Gender': 'Masc', 'Animacy': 'Inan', 'Case': 'Gen', 'Number': 'Sing'}\n",
      "декабрь\n",
      "декабря\n",
      "59 66\n",
      "\n",
      "{}\n",
      ".\n",
      ".\n",
      "66 67\n",
      "\n"
     ]
    }
   ],
   "source": [
    "#http://universaldependencies.org/format.html\n",
    "morph = res['morph']\n",
    "lemma = res['lemma']\n",
    "tokens = res['tokens']\n",
    "sentences = res['sentences']\n",
    "\n",
    "\n",
    "#POS tags and morphological annotation + LEMMA\n",
    "for sent_pos, sent_morph in enumerate(morph):\n",
    "    sentence_offsets = sentences[sent_pos]\n",
    "    sentence_tokens = tokens[sentence_offsets.begin:sentence_offsets.end]\n",
    "    for word_pos, word_morph in enumerate(sent_morph):\n",
    "        print(word_morph) #POS + morph annot\n",
    "        print(lemma[sent_pos][word_pos]) #Lemma\n",
    "        print(sentence_tokens[word_pos].text) #Word form\n",
    "        print(sentence_tokens[word_pos].begin, sentence_tokens[word_pos].end) #Word offsets in text\n",
    "        print()\n",
    "    break"
   ]
  },
  {
   "cell_type": "markdown",
   "metadata": {},
   "source": [
    "# Dependency tree (syntax)"
   ]
  },
  {
   "cell_type": "code",
   "execution_count": 28,
   "metadata": {
    "ExecuteTime": {
     "end_time": "2018-10-22T14:30:21.570915Z",
     "start_time": "2018-10-22T14:30:21.560905Z"
    },
    "scrolled": false
   },
   "outputs": [
    {
     "name": "stdout",
     "output_type": "stream",
     "text": [
      "Word: 0\n",
      "Parent: 1\n",
      "Link name: amod\n",
      "\n",
      "Word: 1\n",
      "Parent: 8\n",
      "Link name: nsubj\n",
      "\n",
      "Word: 2\n",
      "Parent: 3\n",
      "Link name: case\n",
      "\n",
      "Word: 3\n",
      "Parent: 1\n",
      "Link name: nmod\n",
      "\n",
      "Word: 4\n",
      "Parent: 3\n",
      "Link name: nmod\n",
      "\n",
      "Word: 5\n",
      "Parent: 6\n",
      "Link name: case\n",
      "\n",
      "Word: 6\n",
      "Parent: 4\n",
      "Link name: nmod\n",
      "\n",
      "Word: 7\n",
      "Parent: 6\n",
      "Link name: appos\n",
      "\n",
      "Word: 8\n",
      "Parent: -1\n",
      "Link name: ROOT\n",
      "\n",
      "Word: 9\n",
      "Parent: 8\n",
      "Link name: nmod\n",
      "\n",
      "Word: 10\n",
      "Parent: 9\n",
      "Link name: nmod\n",
      "\n",
      "Word: 11\n",
      "Parent: 8\n",
      "Link name: punct\n",
      "\n"
     ]
    }
   ],
   "source": [
    "syntax = res['syntax_dep_tree']\n",
    "for sent_pos, sent_synt in enumerate(syntax):\n",
    "    for word_pos, word_synt in enumerate(sent_synt):\n",
    "        print('Word: %i' % word_pos)\n",
    "        print('Parent: %i' % word_synt.parent)\n",
    "        print('Link name: %s' % word_synt.link_name)\n",
    "        print()\n",
    "    break"
   ]
  },
  {
   "cell_type": "markdown",
   "metadata": {},
   "source": [
    "# SRL"
   ]
  },
  {
   "cell_type": "code",
   "execution_count": 63,
   "metadata": {
    "ExecuteTime": {
     "end_time": "2018-10-22T14:48:13.532002Z",
     "start_time": "2018-10-22T14:48:13.525638Z"
    }
   },
   "outputs": [
    {
     "name": "stdout",
     "output_type": "stream",
     "text": [
      "Predicate: проводить\n",
      "Arguments:\n",
      "Word: бой, Tag: агенс\n",
      "\n",
      "Predicate: встречаться\n",
      "Arguments:\n",
      "Word: поединок, Tag: место\n",
      "Word: он, Tag: агенс\n",
      "Word: британец, Tag: контрагент\n",
      "\n"
     ]
    }
   ],
   "source": [
    "srl = res['srl']\n",
    "lemma = res['lemma']\n",
    "\n",
    "for sent_pos, sent_srl in enumerate(srl):\n",
    "    for event in sent_srl:\n",
    "        predicate_lemma = lemma[sent_pos][event.pred[0]]\n",
    "        print('Predicate: %s' % predicate_lemma)\n",
    "        print('Arguments:')\n",
    "        for arg in event.args:\n",
    "            print('Word: %s, Tag: %s' % (lemma[sent_pos][arg.begin], arg.tag))\n",
    "        print()"
   ]
  }
 ],
 "metadata": {
  "kernelspec": {
   "display_name": "Python 3",
   "language": "python",
   "name": "python3"
  },
  "language_info": {
   "codemirror_mode": {
    "name": "ipython",
    "version": 3
   },
   "file_extension": ".py",
   "mimetype": "text/x-python",
   "name": "python",
   "nbconvert_exporter": "python",
   "pygments_lexer": "ipython3",
   "version": "3.6.4"
  },
  "toc": {
   "colors": {
    "hover_highlight": "#DAA520",
    "running_highlight": "#FF0000",
    "selected_highlight": "#FFD700"
   },
   "moveMenuLeft": true,
   "nav_menu": {
    "height": "84px",
    "width": "252px"
   },
   "navigate_menu": true,
   "number_sections": true,
   "sideBar": true,
   "threshold": 4,
   "toc_cell": false,
   "toc_section_display": "block",
   "toc_window_display": false
  }
 },
 "nbformat": 4,
 "nbformat_minor": 2
}
